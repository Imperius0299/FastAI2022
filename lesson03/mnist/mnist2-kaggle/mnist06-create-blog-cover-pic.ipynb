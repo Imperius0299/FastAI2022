{
 "cells": [
  {
   "cell_type": "markdown",
   "id": "4c7b6bde-469c-4ee6-88e1-8e096052743f",
   "metadata": {},
   "source": [
    "# Creating the cover picture for my blog post on MNIST\n",
    "\n",
    "When I first published my [blog post on working with the MNIST-dataset](https://chrwittm.github.io/posts/2022-11-26-mnist/), I used this pictures as a cover:\n",
    "\n",
    "![](https://chrwittm.github.io/posts/2022-11-26-mnist/mnist-3.png)\n",
    "\n",
    "When scaled-up significantly, it did not look especially great (no surprise). Therefore, I decided to create a better cover picture, not with Photoshop, but with code. This notebook explains how I did it."
   ]
  },
  {
   "cell_type": "code",
   "execution_count": 1,
   "id": "62279117-69b3-4fb3-b4fc-cae8243217b3",
   "metadata": {},
   "outputs": [],
   "source": [
    "from fastai.vision.all import *"
   ]
  },
  {
   "cell_type": "markdown",
   "id": "3c9ac801-e288-47e5-b36e-55d808cfe74c",
   "metadata": {},
   "source": [
    "## Loading the data\n",
    "\n",
    "Let's use the MNIST test data to grab some images."
   ]
  },
  {
   "cell_type": "code",
   "execution_count": 2,
   "id": "294e0ad5-bff6-47b9-a1f8-4f7b7e0186ab",
   "metadata": {},
   "outputs": [
    {
     "data": {
      "text/html": [
       "<div>\n",
       "<style scoped>\n",
       "    .dataframe tbody tr th:only-of-type {\n",
       "        vertical-align: middle;\n",
       "    }\n",
       "\n",
       "    .dataframe tbody tr th {\n",
       "        vertical-align: top;\n",
       "    }\n",
       "\n",
       "    .dataframe thead th {\n",
       "        text-align: right;\n",
       "    }\n",
       "</style>\n",
       "<table border=\"1\" class=\"dataframe\">\n",
       "  <thead>\n",
       "    <tr style=\"text-align: right;\">\n",
       "      <th></th>\n",
       "      <th>pixel0</th>\n",
       "      <th>pixel1</th>\n",
       "      <th>pixel2</th>\n",
       "      <th>pixel3</th>\n",
       "      <th>pixel4</th>\n",
       "      <th>pixel5</th>\n",
       "      <th>pixel6</th>\n",
       "      <th>pixel7</th>\n",
       "      <th>pixel8</th>\n",
       "      <th>pixel9</th>\n",
       "      <th>...</th>\n",
       "      <th>pixel774</th>\n",
       "      <th>pixel775</th>\n",
       "      <th>pixel776</th>\n",
       "      <th>pixel777</th>\n",
       "      <th>pixel778</th>\n",
       "      <th>pixel779</th>\n",
       "      <th>pixel780</th>\n",
       "      <th>pixel781</th>\n",
       "      <th>pixel782</th>\n",
       "      <th>pixel783</th>\n",
       "    </tr>\n",
       "  </thead>\n",
       "  <tbody>\n",
       "    <tr>\n",
       "      <th>0</th>\n",
       "      <td>0</td>\n",
       "      <td>0</td>\n",
       "      <td>0</td>\n",
       "      <td>0</td>\n",
       "      <td>0</td>\n",
       "      <td>0</td>\n",
       "      <td>0</td>\n",
       "      <td>0</td>\n",
       "      <td>0</td>\n",
       "      <td>0</td>\n",
       "      <td>...</td>\n",
       "      <td>0</td>\n",
       "      <td>0</td>\n",
       "      <td>0</td>\n",
       "      <td>0</td>\n",
       "      <td>0</td>\n",
       "      <td>0</td>\n",
       "      <td>0</td>\n",
       "      <td>0</td>\n",
       "      <td>0</td>\n",
       "      <td>0</td>\n",
       "    </tr>\n",
       "    <tr>\n",
       "      <th>1</th>\n",
       "      <td>0</td>\n",
       "      <td>0</td>\n",
       "      <td>0</td>\n",
       "      <td>0</td>\n",
       "      <td>0</td>\n",
       "      <td>0</td>\n",
       "      <td>0</td>\n",
       "      <td>0</td>\n",
       "      <td>0</td>\n",
       "      <td>0</td>\n",
       "      <td>...</td>\n",
       "      <td>0</td>\n",
       "      <td>0</td>\n",
       "      <td>0</td>\n",
       "      <td>0</td>\n",
       "      <td>0</td>\n",
       "      <td>0</td>\n",
       "      <td>0</td>\n",
       "      <td>0</td>\n",
       "      <td>0</td>\n",
       "      <td>0</td>\n",
       "    </tr>\n",
       "    <tr>\n",
       "      <th>2</th>\n",
       "      <td>0</td>\n",
       "      <td>0</td>\n",
       "      <td>0</td>\n",
       "      <td>0</td>\n",
       "      <td>0</td>\n",
       "      <td>0</td>\n",
       "      <td>0</td>\n",
       "      <td>0</td>\n",
       "      <td>0</td>\n",
       "      <td>0</td>\n",
       "      <td>...</td>\n",
       "      <td>0</td>\n",
       "      <td>0</td>\n",
       "      <td>0</td>\n",
       "      <td>0</td>\n",
       "      <td>0</td>\n",
       "      <td>0</td>\n",
       "      <td>0</td>\n",
       "      <td>0</td>\n",
       "      <td>0</td>\n",
       "      <td>0</td>\n",
       "    </tr>\n",
       "    <tr>\n",
       "      <th>3</th>\n",
       "      <td>0</td>\n",
       "      <td>0</td>\n",
       "      <td>0</td>\n",
       "      <td>0</td>\n",
       "      <td>0</td>\n",
       "      <td>0</td>\n",
       "      <td>0</td>\n",
       "      <td>0</td>\n",
       "      <td>0</td>\n",
       "      <td>0</td>\n",
       "      <td>...</td>\n",
       "      <td>0</td>\n",
       "      <td>0</td>\n",
       "      <td>0</td>\n",
       "      <td>0</td>\n",
       "      <td>0</td>\n",
       "      <td>0</td>\n",
       "      <td>0</td>\n",
       "      <td>0</td>\n",
       "      <td>0</td>\n",
       "      <td>0</td>\n",
       "    </tr>\n",
       "    <tr>\n",
       "      <th>4</th>\n",
       "      <td>0</td>\n",
       "      <td>0</td>\n",
       "      <td>0</td>\n",
       "      <td>0</td>\n",
       "      <td>0</td>\n",
       "      <td>0</td>\n",
       "      <td>0</td>\n",
       "      <td>0</td>\n",
       "      <td>0</td>\n",
       "      <td>0</td>\n",
       "      <td>...</td>\n",
       "      <td>0</td>\n",
       "      <td>0</td>\n",
       "      <td>0</td>\n",
       "      <td>0</td>\n",
       "      <td>0</td>\n",
       "      <td>0</td>\n",
       "      <td>0</td>\n",
       "      <td>0</td>\n",
       "      <td>0</td>\n",
       "      <td>0</td>\n",
       "    </tr>\n",
       "  </tbody>\n",
       "</table>\n",
       "<p>5 rows × 784 columns</p>\n",
       "</div>"
      ],
      "text/plain": [
       "   pixel0  pixel1  pixel2  pixel3  pixel4  pixel5  pixel6  pixel7  pixel8  \\\n",
       "0       0       0       0       0       0       0       0       0       0   \n",
       "1       0       0       0       0       0       0       0       0       0   \n",
       "2       0       0       0       0       0       0       0       0       0   \n",
       "3       0       0       0       0       0       0       0       0       0   \n",
       "4       0       0       0       0       0       0       0       0       0   \n",
       "\n",
       "   pixel9  ...  pixel774  pixel775  pixel776  pixel777  pixel778  pixel779  \\\n",
       "0       0  ...         0         0         0         0         0         0   \n",
       "1       0  ...         0         0         0         0         0         0   \n",
       "2       0  ...         0         0         0         0         0         0   \n",
       "3       0  ...         0         0         0         0         0         0   \n",
       "4       0  ...         0         0         0         0         0         0   \n",
       "\n",
       "   pixel780  pixel781  pixel782  pixel783  \n",
       "0         0         0         0         0  \n",
       "1         0         0         0         0  \n",
       "2         0         0         0         0  \n",
       "3         0         0         0         0  \n",
       "4         0         0         0         0  \n",
       "\n",
       "[5 rows x 784 columns]"
      ]
     },
     "execution_count": 2,
     "metadata": {},
     "output_type": "execute_result"
    }
   ],
   "source": [
    "import pandas as pd\n",
    "\n",
    "test = pd.read_csv(\"test.csv\")\n",
    "test.head()"
   ]
  },
  {
   "cell_type": "code",
   "execution_count": 3,
   "id": "a1ba3f8b-e5c1-4df8-9f6f-e6cde1046938",
   "metadata": {},
   "outputs": [],
   "source": [
    "def get_test_image(index):\n",
    "    im = torch.tensor(test.iloc[index])\n",
    "    image = Image.frombytes('L', (28, 28), bytes(im))\n",
    "    return image"
   ]
  },
  {
   "cell_type": "code",
   "execution_count": 4,
   "id": "c2e7331f-844c-48f8-9d66-49d84a294744",
   "metadata": {},
   "outputs": [
    {
     "data": {
      "image/png": "[encoded data removed]",
      "text/plain": [
       "<PIL.Image.Image image mode=L size=28x28>"
      ]
     },
     "execution_count": 4,
     "metadata": {},
     "output_type": "execute_result"
    }
   ],
   "source": [
    "get_test_image(0)"
   ]
  },
  {
   "cell_type": "code",
   "execution_count": 5,
   "id": "2c073b5d-eb9e-48d5-b5b6-fbe729c6b8e7",
   "metadata": {},
   "outputs": [
    {
     "data": {
      "image/png": "[encoded data removed]",
      "text/plain": [
       "<PIL.Image.Image image mode=L size=28x28>"
      ]
     },
     "execution_count": 5,
     "metadata": {},
     "output_type": "execute_result"
    }
   ],
   "source": [
    "get_test_image(1)"
   ]
  },
  {
   "cell_type": "markdown",
   "id": "b47ab8c2-d3f3-444e-ae1e-7d6fccdf5afa",
   "metadata": {},
   "source": [
    "### Converting image tensor to 2D and back to 1D\n",
    "\n",
    "From the data above, we can get an image as a tensor in a 1D-representation. Since we usually think of images as 2D, here is how to convert it to 2D and back."
   ]
  },
  {
   "cell_type": "code",
   "execution_count": 6,
   "id": "c9b53d82-4476-40c4-abf0-7ae7a0331865",
   "metadata": {},
   "outputs": [
    {
     "name": "stdout",
     "output_type": "stream",
     "text": [
      "The length of the tensor is torch.Size([784])\n"
     ]
    },
    {
     "data": {
      "text/plain": [
       "tensor([0, 0, 0, 0, 0, 0, 0, 0, 0, 0, 0, 0, 0, 0, 0, 0, 0, 0, 0, 0, 0, 0, 0, 0,\n",
       "        0, 0, 0, 0, 0, 0, 0, 0, 0, 0, 0, 0, 0, 0, 0, 0, 0, 0, 0, 0, 0, 0, 0, 0,\n",
       "        0, 0, 0, 0, 0, 0, 0, 0, 0, 0, 0, 0, 0, 0, 0, 0, 0, 0, 0, 0, 0, 0, 0, 0,\n",
       "        0, 0, 0, 0, 0, 0, 0, 0, 0, 0, 0, 0, 0, 0, 0, 0, 0, 0, 0, 0, 0, 0, 0, 0,\n",
       "        0, 0, 0, 0])"
      ]
     },
     "execution_count": 6,
     "metadata": {},
     "output_type": "execute_result"
    }
   ],
   "source": [
    "im1 = torch.tensor(test.iloc[0])\n",
    "print(f'The length of the tensor is {im1.shape}')\n",
    "im1[:100] # the first 100 pixels"
   ]
  },
  {
   "cell_type": "markdown",
   "id": "828d7006-56b0-4e16-be42-ce875e693f46",
   "metadata": {},
   "source": [
    "Now, we convert it into a 28x28 2D-tensor:"
   ]
  },
  {
   "cell_type": "code",
   "execution_count": 7,
   "id": "2fb68147-05a9-4360-ad02-da2497419ad8",
   "metadata": {},
   "outputs": [
    {
     "data": {
      "text/plain": [
       "torch.Size([28, 28])"
      ]
     },
     "execution_count": 7,
     "metadata": {},
     "output_type": "execute_result"
    }
   ],
   "source": [
    "im1 = im1.view(28,28)\n",
    "im1.size()"
   ]
  },
  {
   "cell_type": "markdown",
   "id": "188bacbe-76a3-4997-9949-3d7f5dbfb58d",
   "metadata": {},
   "source": [
    "And now, we bring it back to 1D:"
   ]
  },
  {
   "cell_type": "code",
   "execution_count": 8,
   "id": "010310e9-28c5-4ce0-b465-71d59e196b60",
   "metadata": {},
   "outputs": [
    {
     "name": "stdout",
     "output_type": "stream",
     "text": [
      "The length of the tensor is torch.Size([784])\n"
     ]
    },
    {
     "data": {
      "text/plain": [
       "tensor([0, 0, 0, 0, 0, 0, 0, 0, 0, 0, 0, 0, 0, 0, 0, 0, 0, 0, 0, 0, 0, 0, 0, 0,\n",
       "        0, 0, 0, 0, 0, 0, 0, 0, 0, 0, 0, 0, 0, 0, 0, 0, 0, 0, 0, 0, 0, 0, 0, 0,\n",
       "        0, 0, 0, 0, 0, 0, 0, 0, 0, 0, 0, 0, 0, 0, 0, 0, 0, 0, 0, 0, 0, 0, 0, 0,\n",
       "        0, 0, 0, 0, 0, 0, 0, 0, 0, 0, 0, 0, 0, 0, 0, 0, 0, 0, 0, 0, 0, 0, 0, 0,\n",
       "        0, 0, 0, 0])"
      ]
     },
     "execution_count": 8,
     "metadata": {},
     "output_type": "execute_result"
    }
   ],
   "source": [
    "im1 = im1.view(784)\n",
    "print(f'The length of the tensor is {im1.shape}')\n",
    "im1[:100] # the first 100 pixels"
   ]
  },
  {
   "cell_type": "markdown",
   "id": "79c47066-2a41-47b9-9ad6-00adb4fd7e9b",
   "metadata": {},
   "source": [
    "### Getting an image as 2D tensor\n",
    "\n",
    "Let's wrap this in a function to get images as 2D tensors:"
   ]
  },
  {
   "cell_type": "code",
   "execution_count": 9,
   "id": "53b0a200-1770-4069-8ad5-1d1c249a8007",
   "metadata": {},
   "outputs": [],
   "source": [
    "def get_image_as_2d_tensor(index):\n",
    "    im = torch.tensor(test.iloc[index])\n",
    "    return im.view(28,28)"
   ]
  },
  {
   "cell_type": "code",
   "execution_count": 10,
   "id": "dae87754-7618-4762-bf79-034492baa333",
   "metadata": {},
   "outputs": [
    {
     "data": {
      "text/plain": [
       "torch.Size([28, 28])"
      ]
     },
     "execution_count": 10,
     "metadata": {},
     "output_type": "execute_result"
    }
   ],
   "source": [
    "im1 = get_image_as_2d_tensor(0)\n",
    "im2 = get_image_as_2d_tensor(1)\n",
    "im3 = get_image_as_2d_tensor(2)\n",
    "im3.size()"
   ]
  },
  {
   "cell_type": "markdown",
   "id": "0a4df66a-8d6b-4535-9e7a-050d30bd906d",
   "metadata": {},
   "source": [
    "### Concatenating the images\n",
    "\n",
    "To create a new picture, which contains more than one digit, let's call it concatenating, we will do the following:\n",
    "\n",
    "* iterate over the lines of each image\n",
    "* concatenating them together so that the block come from alternating images\n",
    "* once flattened and put into a new shape, the new image should appear"
   ]
  },
  {
   "cell_type": "code",
   "execution_count": 11,
   "id": "1ffb1072-b6fd-441a-8a47-6c635866049d",
   "metadata": {},
   "outputs": [],
   "source": [
    "def concat_images(im1,im2):\n",
    "    im3 =  [torch.cat((t1,t2)) for (t1,t2) in zip(im1,im2)]\n",
    "    return torch.stack((im3)) #https://stackoverflow.com/questions/61359162/convert-a-list-of-tensors-to-tensors-of-tensors-pytorch"
   ]
  },
  {
   "cell_type": "code",
   "execution_count": 12,
   "id": "3bdb97a9-d329-4335-a302-3338e1594d60",
   "metadata": {},
   "outputs": [
    {
     "data": {
      "text/plain": [
       "torch.Size([28, 56])"
      ]
     },
     "execution_count": 12,
     "metadata": {},
     "output_type": "execute_result"
    }
   ],
   "source": [
    "final = concat_images(im1,im2)\n",
    "final.size()"
   ]
  },
  {
   "cell_type": "code",
   "execution_count": 13,
   "id": "95f42f1f-0442-4824-b83b-68b056f3007f",
   "metadata": {},
   "outputs": [
    {
     "data": {
      "text/plain": [
       "torch.Size([28, 84])"
      ]
     },
     "execution_count": 13,
     "metadata": {},
     "output_type": "execute_result"
    }
   ],
   "source": [
    "final = concat_images(final,im3)\n",
    "final.size()"
   ]
  },
  {
   "cell_type": "code",
   "execution_count": 14,
   "id": "bf6bb3a3-7c8d-43b2-9a10-a8c7430d2c3e",
   "metadata": {},
   "outputs": [],
   "source": [
    "final = final.view(784*3)"
   ]
  },
  {
   "cell_type": "code",
   "execution_count": 15,
   "id": "7a9802b7-4099-4ec7-8575-ab37a4ea26e0",
   "metadata": {},
   "outputs": [],
   "source": [
    "final = Image.frombytes('L', (3*28, 28), bytes(final))#.convert('RGB')"
   ]
  },
  {
   "cell_type": "code",
   "execution_count": 16,
   "id": "1b55b57d-3763-47d2-90fd-3d7f981c65fc",
   "metadata": {},
   "outputs": [
    {
     "data": {
      "image/png": "[encoded data removed]",
      "text/plain": [
       "<PIL.Image.Image image mode=L size=84x28>"
      ]
     },
     "execution_count": 16,
     "metadata": {},
     "output_type": "execute_result"
    }
   ],
   "source": [
    "final"
   ]
  },
  {
   "cell_type": "markdown",
   "id": "1073f992-5d16-4dcf-9daf-f3a27947f657",
   "metadata": {},
   "source": [
    "### Creating an image with NxN digits\n",
    "\n",
    "Let's wrap everything we did so far in a function. To additionally add more lines, the flattened tensors of the images just need to be concatenated and put into a new shape:"
   ]
  },
  {
   "cell_type": "code",
   "execution_count": 17,
   "id": "a492d470-d1e8-4d8e-905a-4c6c52929510",
   "metadata": {},
   "outputs": [],
   "source": [
    "columns = 8\n",
    "lines = 8"
   ]
  },
  {
   "cell_type": "code",
   "execution_count": 18,
   "id": "a9fdc68b-6b68-4f37-bac2-fa2b67291f50",
   "metadata": {},
   "outputs": [
    {
     "data": {
      "image/png": "[encoded data removed]",
      "text/plain": [
       "<PIL.Image.Image image mode=L size=224x28>"
      ]
     },
     "execution_count": 18,
     "metadata": {},
     "output_type": "execute_result"
    }
   ],
   "source": [
    "def create_line_of_images(start, noi):\n",
    "\n",
    "    im = get_image_as_2d_tensor(start)\n",
    "\n",
    "    for i in range(1,noi):\n",
    "        im2 = get_image_as_2d_tensor(start+i)\n",
    "        im = concat_images(im,im2)\n",
    "    \n",
    "    return im.view(784*noi)\n",
    "\n",
    "im = create_line_of_images(0, columns)\n",
    "im = Image.frombytes('L', (columns*28, 28), bytes(im))\n",
    "im"
   ]
  },
  {
   "cell_type": "code",
   "execution_count": 19,
   "id": "c9414581-741a-4b59-af4d-c76ac0191977",
   "metadata": {},
   "outputs": [],
   "source": [
    "im = create_line_of_images(0, columns)\n",
    "\n",
    "for i in range(1,lines):\n",
    "    line = create_line_of_images(lines*i, columns)\n",
    "    im = torch.cat((im, line))\n",
    "\n",
    "im.view(784*columns*lines)\n",
    "im = Image.frombytes('L', (columns*28, lines*28), bytes(im))"
   ]
  },
  {
   "cell_type": "code",
   "execution_count": 20,
   "id": "2e7c5388-825b-46bf-b5ee-50132a5cf76b",
   "metadata": {},
   "outputs": [],
   "source": [
    "#uncomment to download\n",
    "#im.save('mnist-digits.png')"
   ]
  },
  {
   "cell_type": "markdown",
   "id": "99328ef5-4396-43cc-87fc-4522cd494a35",
   "metadata": {},
   "source": [
    "Volià, here is the final result:"
   ]
  },
  {
   "cell_type": "code",
   "execution_count": 21,
   "id": "f23ab927-3558-439e-b0be-681f2fa83e1c",
   "metadata": {},
   "outputs": [
    {
     "data": {
      "image/png": "[encoded data removed]",
      "text/plain": [
       "<PIL.Image.Image image mode=L size=224x224>"
      ]
     },
     "execution_count": 21,
     "metadata": {},
     "output_type": "execute_result"
    }
   ],
   "source": [
    "im"
   ]
  }
 ],
 "metadata": {
  "kernelspec": {
   "display_name": "Python 3 (ipykernel)",
   "language": "python",
   "name": "python3"
  },
  "language_info": {
   "codemirror_mode": {
    "name": "ipython",
    "version": 3
   },
   "file_extension": ".py",
   "mimetype": "text/x-python",
   "name": "python",
   "nbconvert_exporter": "python",
   "pygments_lexer": "ipython3",
   "version": "3.10.6"
  },
  "vscode": {
   "interpreter": {
    "hash": "d9da906b64701e68312bc07fbc15a3a13814f930718c2c6b0e41a29d035806a3"
   }
  }
 },
 "nbformat": 4,
 "nbformat_minor": 5
}
