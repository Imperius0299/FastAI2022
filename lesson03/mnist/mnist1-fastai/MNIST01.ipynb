{
 "cells": [
  {
   "cell_type": "markdown",
   "id": "875bcbdb-b248-454d-8f91-ffc366278ef0",
   "metadata": {},
   "source": [
    "# MNIST, the \"Hello World\" of Computer Vision\n",
    "\n",
    "After Cat vs. Dog, this is the next challenge for me in computer vision. Building on [chaper 4](https://github.com/fastai/fastbook/blob/master/04_mnist_basics.ipynb) of the book, I would like to implement the whole [MNIST](https://en.wikipedia.org/wiki/MNIST_database), as recommended as futher research and as also avaiblable as a [Kaggle competition](https://www.kaggle.com/competitions/digit-recognizer/data).\n",
    "\n",
    "Again, the way to implement will be the following (like with the [Titanic-Challenge](https://chrwittm.github.io/posts/2022-11-05-kaggle-titanic/):\n",
    "* Implement a Fast.AI version to get a feeling of the data and also to get a result quickly\n",
    "* Implement a from-scrach version for additonal learnings and insights"
   ]
  },
  {
   "cell_type": "code",
   "execution_count": 1,
   "id": "b8befe84-bd03-43c8-a841-365fce78d716",
   "metadata": {},
   "outputs": [],
   "source": [
    "from fastai.vision.all import *"
   ]
  },
  {
   "cell_type": "markdown",
   "id": "0948d5bb-2eb3-467b-b762-24ccf91a5244",
   "metadata": {},
   "source": [
    "## Downloading the dataset\n",
    "\n",
    "### From Kaggle\n",
    "\n",
    "Let's download the dataset from Kaggle. Uncomment the next line of you do not have it on your machine yet:"
   ]
  },
  {
   "cell_type": "code",
   "execution_count": 2,
   "id": "e9c3f2a5-4e00-42d5-8389-366371a602b1",
   "metadata": {},
   "outputs": [],
   "source": [
    "#!kaggle competitions download -c digit-recognizer"
   ]
  },
  {
   "cell_type": "code",
   "execution_count": 3,
   "id": "72c97bb0-a488-4ea1-8246-3ffa6e7c8e7a",
   "metadata": {},
   "outputs": [],
   "source": [
    "#!unzip digit-recognizer.zip"
   ]
  },
  {
   "cell_type": "markdown",
   "id": "d4cdb241-e4ce-44bd-8877-0cf541c23dc2",
   "metadata": {},
   "source": [
    "As presented in the book, let's do all the file manipulation directly from the notebook:"
   ]
  },
  {
   "cell_type": "code",
   "execution_count": 4,
   "id": "d6b254f3-8ab3-4a27-9c9a-2fd6ed563d86",
   "metadata": {},
   "outputs": [],
   "source": [
    "path = Path('.')\n",
    "Path.BASE_PATH = path"
   ]
  },
  {
   "cell_type": "code",
   "execution_count": 5,
   "id": "c5bbfbbc-f480-4690-b5cb-c98f912dc6e6",
   "metadata": {},
   "outputs": [
    {
     "data": {
      "text/plain": [
       "(#6) [Path('.ipynb_checkpoints'),Path('digit-recognizer.zip'),Path('MNIST01.ipynb'),Path('sample_submission.csv'),Path('test.csv'),Path('train.csv')]"
      ]
     },
     "execution_count": 5,
     "metadata": {},
     "output_type": "execute_result"
    }
   ],
   "source": [
    "path.ls()"
   ]
  },
  {
   "cell_type": "markdown",
   "id": "5ee8b4b9-bf9e-4ca9-ab80-da1ff79e5f10",
   "metadata": {},
   "source": [
    "This is a bit of a surprise that we get a csv file for the images...\n",
    "Need to construct an image...\n",
    "Also rearanging the images seems to be a good exercise..."
   ]
  },
  {
   "cell_type": "markdown",
   "id": "c2a38b5c-b63a-4c76-9de4-bea5ffe9e847",
   "metadata": {},
   "source": [
    "### From Fast.AI\n",
    "\n",
    "As a comparison, let's quickly download the Fast.AI version:"
   ]
  },
  {
   "cell_type": "code",
   "execution_count": 6,
   "id": "0c3b62ea-c634-48c9-9616-41b93f118b88",
   "metadata": {},
   "outputs": [],
   "source": [
    "path = untar_data(URLs.MNIST)"
   ]
  },
  {
   "cell_type": "code",
   "execution_count": 7,
   "id": "ed133ee4-0b04-4fcf-bd94-8d848cd7758f",
   "metadata": {},
   "outputs": [
    {
     "data": {
      "text/plain": [
       "(#2) [Path('/home/chrwittm/.fastai/data/mnist_png/training'),Path('/home/chrwittm/.fastai/data/mnist_png/testing')]"
      ]
     },
     "execution_count": 7,
     "metadata": {},
     "output_type": "execute_result"
    }
   ],
   "source": [
    "path.ls()"
   ]
  },
  {
   "cell_type": "markdown",
   "id": "5dd67940-c581-4dab-b203-02bca913c035",
   "metadata": {},
   "source": [
    "Next: Start with the Fast.AI version, because that will yield quicker results, taking the images and training a model should be no overly difficult...\n",
    "\n",
    "Afterwards: Use the kaggle data to convert it and run the same thing\n",
    "\n",
    "Afterwards: Train your own model"
   ]
  },
  {
   "cell_type": "markdown",
   "id": "507b45fb-ddd2-4049-8fe0-28dbf2c249fa",
   "metadata": {},
   "source": [
    "## Creating a quick model\n",
    "\n",
    "with this dataset, let's create a qick model."
   ]
  },
  {
   "cell_type": "code",
   "execution_count": 12,
   "id": "1c49031a-1d0e-4cf9-826e-03b6381c4e62",
   "metadata": {},
   "outputs": [
    {
     "data": {
      "text/plain": [
       "Path('/home/chrwittm/.fastai/data/mnist_png')"
      ]
     },
     "execution_count": 12,
     "metadata": {},
     "output_type": "execute_result"
    }
   ],
   "source": [
    "path"
   ]
  },
  {
   "cell_type": "code",
   "execution_count": 14,
   "id": "155a65d5-20f9-4b94-8262-ab7978f93fab",
   "metadata": {},
   "outputs": [
    {
     "data": {
      "text/plain": [
       "Path('/home/chrwittm/.fastai/data/mnist_png/training')"
      ]
     },
     "execution_count": 14,
     "metadata": {},
     "output_type": "execute_result"
    }
   ],
   "source": [
    "(path/'training')"
   ]
  },
  {
   "cell_type": "code",
   "execution_count": 13,
   "id": "f3ee6f3d-7e38-4b08-ae60-f0e2eae6e2a8",
   "metadata": {},
   "outputs": [
    {
     "data": {
      "text/plain": [
       "(#10) [Path('/home/chrwittm/.fastai/data/mnist_png/training/4'),Path('/home/chrwittm/.fastai/data/mnist_png/training/7'),Path('/home/chrwittm/.fastai/data/mnist_png/training/9'),Path('/home/chrwittm/.fastai/data/mnist_png/training/5'),Path('/home/chrwittm/.fastai/data/mnist_png/training/8'),Path('/home/chrwittm/.fastai/data/mnist_png/training/0'),Path('/home/chrwittm/.fastai/data/mnist_png/training/2'),Path('/home/chrwittm/.fastai/data/mnist_png/training/1'),Path('/home/chrwittm/.fastai/data/mnist_png/training/6'),Path('/home/chrwittm/.fastai/data/mnist_png/training/3')]"
      ]
     },
     "execution_count": 13,
     "metadata": {},
     "output_type": "execute_result"
    }
   ],
   "source": [
    "(path/'training').ls()"
   ]
  },
  {
   "cell_type": "code",
   "execution_count": 15,
   "id": "d08367fc-b131-4a40-a1be-8d0cc054bb49",
   "metadata": {},
   "outputs": [],
   "source": [
    "path = (path/'training')"
   ]
  },
  {
   "cell_type": "code",
   "execution_count": 16,
   "id": "1bd3da7f-a640-4306-926c-38c3f372ddba",
   "metadata": {},
   "outputs": [
    {
     "data": {
      "text/plain": [
       "Path('/home/chrwittm/.fastai/data/mnist_png/training')"
      ]
     },
     "execution_count": 16,
     "metadata": {},
     "output_type": "execute_result"
    }
   ],
   "source": [
    "path"
   ]
  },
  {
   "cell_type": "code",
   "execution_count": 17,
   "id": "bf8d03d9-6fbb-407e-990c-a4ad7aee6bba",
   "metadata": {},
   "outputs": [],
   "source": [
    "mnist1 = DataBlock(\n",
    "    blocks=(ImageBlock, CategoryBlock), \n",
    "    get_items=get_image_files, \n",
    "    splitter=RandomSplitter(valid_pct=0.2, seed=42),\n",
    "    get_y=parent_label,\n",
    "    #item_tfms=[Resize(192, method='squish')]\n",
    ")"
   ]
  },
  {
   "cell_type": "code",
   "execution_count": 19,
   "id": "bb4f3d5e-1a62-4f8f-be9b-fbdbc7e6a408",
   "metadata": {},
   "outputs": [],
   "source": [
    "dls = mnist1.dataloaders(path, bs=32)"
   ]
  },
  {
   "cell_type": "code",
   "execution_count": 20,
   "id": "34e74528-e833-405b-aea2-7eb5c72b8006",
   "metadata": {},
   "outputs": [
    {
     "data": {
      "image/png": "[encoded data removed]",
      "text/plain": [
       "<Figure size 900x600 with 6 Axes>"
      ]
     },
     "metadata": {},
     "output_type": "display_data"
    }
   ],
   "source": [
    "dls.show_batch(max_n=6)"
   ]
  },
  {
   "cell_type": "code",
   "execution_count": 21,
   "id": "ec1ac690-e3da-4040-aec3-cd40fd53e692",
   "metadata": {},
   "outputs": [
    {
     "name": "stderr",
     "output_type": "stream",
     "text": [
      "/home/chrwittm/mambaforge/lib/python3.10/site-packages/torchvision/models/_utils.py:208: UserWarning: The parameter 'pretrained' is deprecated since 0.13 and will be removed in 0.15, please use 'weights' instead.\n",
      "  warnings.warn(\n",
      "/home/chrwittm/mambaforge/lib/python3.10/site-packages/torchvision/models/_utils.py:223: UserWarning: Arguments other than a weight enum or `None` for 'weights' are deprecated since 0.13 and will be removed in 0.15. The current behavior is equivalent to passing `weights=ResNet18_Weights.IMAGENET1K_V1`. You can also use `weights=ResNet18_Weights.DEFAULT` to get the most up-to-date weights.\n",
      "  warnings.warn(msg)\n"
     ]
    },
    {
     "data": {
      "text/html": [
       "\n",
       "<style>\n",
       "    /* Turns off some styling */\n",
       "    progress {\n",
       "        /* gets rid of default border in Firefox and Opera. */\n",
       "        border: none;\n",
       "        /* Needs to be in here for Safari polyfill so background images work as expected. */\n",
       "        background-size: auto;\n",
       "    }\n",
       "    progress:not([value]), progress:not([value])::-webkit-progress-bar {\n",
       "        background: repeating-linear-gradient(45deg, #7e7e7e, #7e7e7e 10px, #5c5c5c 10px, #5c5c5c 20px);\n",
       "    }\n",
       "    .progress-bar-interrupted, .progress-bar-interrupted::-webkit-progress-bar {\n",
       "        background: #F44336;\n",
       "    }\n",
       "</style>\n"
      ],
      "text/plain": [
       "<IPython.core.display.HTML object>"
      ]
     },
     "metadata": {},
     "output_type": "display_data"
    },
    {
     "data": {
      "text/html": [
       "<table border=\"1\" class=\"dataframe\">\n",
       "  <thead>\n",
       "    <tr style=\"text-align: left;\">\n",
       "      <th>epoch</th>\n",
       "      <th>train_loss</th>\n",
       "      <th>valid_loss</th>\n",
       "      <th>error_rate</th>\n",
       "      <th>time</th>\n",
       "    </tr>\n",
       "  </thead>\n",
       "  <tbody>\n",
       "    <tr>\n",
       "      <td>0</td>\n",
       "      <td>0.735326</td>\n",
       "      <td>0.490543</td>\n",
       "      <td>0.154583</td>\n",
       "      <td>04:19</td>\n",
       "    </tr>\n",
       "  </tbody>\n",
       "</table>"
      ],
      "text/plain": [
       "<IPython.core.display.HTML object>"
      ]
     },
     "metadata": {},
     "output_type": "display_data"
    },
    {
     "data": {
      "text/html": [
       "\n",
       "<style>\n",
       "    /* Turns off some styling */\n",
       "    progress {\n",
       "        /* gets rid of default border in Firefox and Opera. */\n",
       "        border: none;\n",
       "        /* Needs to be in here for Safari polyfill so background images work as expected. */\n",
       "        background-size: auto;\n",
       "    }\n",
       "    progress:not([value]), progress:not([value])::-webkit-progress-bar {\n",
       "        background: repeating-linear-gradient(45deg, #7e7e7e, #7e7e7e 10px, #5c5c5c 10px, #5c5c5c 20px);\n",
       "    }\n",
       "    .progress-bar-interrupted, .progress-bar-interrupted::-webkit-progress-bar {\n",
       "        background: #F44336;\n",
       "    }\n",
       "</style>\n"
      ],
      "text/plain": [
       "<IPython.core.display.HTML object>"
      ]
     },
     "metadata": {},
     "output_type": "display_data"
    },
    {
     "data": {
      "text/html": [
       "<table border=\"1\" class=\"dataframe\">\n",
       "  <thead>\n",
       "    <tr style=\"text-align: left;\">\n",
       "      <th>epoch</th>\n",
       "      <th>train_loss</th>\n",
       "      <th>valid_loss</th>\n",
       "      <th>error_rate</th>\n",
       "      <th>time</th>\n",
       "    </tr>\n",
       "  </thead>\n",
       "  <tbody>\n",
       "    <tr>\n",
       "      <td>0</td>\n",
       "      <td>0.180698</td>\n",
       "      <td>0.080725</td>\n",
       "      <td>0.024417</td>\n",
       "      <td>10:29</td>\n",
       "    </tr>\n",
       "    <tr>\n",
       "      <td>1</td>\n",
       "      <td>0.072823</td>\n",
       "      <td>0.041142</td>\n",
       "      <td>0.011833</td>\n",
       "      <td>13:02</td>\n",
       "    </tr>\n",
       "    <tr>\n",
       "      <td>2</td>\n",
       "      <td>0.033182</td>\n",
       "      <td>0.033746</td>\n",
       "      <td>0.010000</td>\n",
       "      <td>12:27</td>\n",
       "    </tr>\n",
       "  </tbody>\n",
       "</table>"
      ],
      "text/plain": [
       "<IPython.core.display.HTML object>"
      ]
     },
     "metadata": {},
     "output_type": "display_data"
    }
   ],
   "source": [
    "learn = vision_learner(dls, resnet18, metrics=error_rate)\n",
    "learn.fine_tune(3)"
   ]
  },
  {
   "cell_type": "markdown",
   "id": "8bded2e3-a8c3-4784-900e-6632dea9322d",
   "metadata": {},
   "source": [
    "## Benchmarking\n",
    "\n",
    "Running the training on my local machine took about 40 minutes:\n",
    "\n",
    "![CPU](benchmark-cpu.png)"
   ]
  }
 ],
 "metadata": {
  "kernelspec": {
   "display_name": "Python 3 (ipykernel)",
   "language": "python",
   "name": "python3"
  },
  "language_info": {
   "codemirror_mode": {
    "name": "ipython",
    "version": 3
   },
   "file_extension": ".py",
   "mimetype": "text/x-python",
   "name": "python",
   "nbconvert_exporter": "python",
   "pygments_lexer": "ipython3",
   "version": "3.10.6"
  }
 },
 "nbformat": 4,
 "nbformat_minor": 5
}
